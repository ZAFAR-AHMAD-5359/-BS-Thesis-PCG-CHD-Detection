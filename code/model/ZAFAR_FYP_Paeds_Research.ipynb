{
  "cells": [
    {
      "cell_type": "markdown",
      "metadata": {
        "id": "iTlowcgikQaK"
      },
      "source": [
        "## PCG"
      ]
    },
    {
      "cell_type": "markdown",
      "metadata": {
        "id": "hhkeXODU7y2a"
      },
      "source": [
        "**PCG Classification using 1D convolutional neural network**"
      ]
    },
    {
      "cell_type": "code",
      "execution_count": 1,
      "metadata": {
        "id": "_QZcLRrn6mZA"
      },
      "outputs": [],
      "source": [
        "import numpy as np\n",
        "import pandas as pd\n",
        "from matplotlib import pyplot as plt\n",
        "import seaborn as sns\n",
        "from scipy import signal\n",
        "from sklearn.utils import shuffle\n",
        "import librosa as lb\n",
        "from collections import Counter\n",
        "import os\n",
        "from tensorflow.keras.callbacks import ModelCheckpoint\n",
        "from sklearn.model_selection import train_test_split\n",
        "from tensorflow.keras.utils import to_categorical\n",
        "from tensorflow.keras.optimizers import Adam\n",
        "from keras.regularizers import l2\n",
        "from tensorflow.keras.layers import Conv1D, MaxPooling1D, Flatten, LSTM, AveragePooling1D, Dropout, Dense, Input\n",
        "from tensorflow.keras.models import Model, Sequential\n",
        "from sklearn import preprocessing\n",
        "from sklearn.metrics import accuracy_score, f1_score, precision_score, confusion_matrix\n",
        "\n",
        "import warnings\n",
        "warnings.filterwarnings('ignore')"
      ]
    },
    {
      "cell_type": "code",
      "execution_count": 2,
      "metadata": {
        "colab": {
          "base_uri": "https://localhost:8080/"
        },
        "id": "Kb1PS1RovplN",
        "outputId": "711fd277-d56e-4c73-cfb9-c8d0de2b39a4"
      },
      "outputs": [
        {
          "output_type": "stream",
          "name": "stdout",
          "text": [
            "Mounted at /content/drive\n"
          ]
        }
      ],
      "source": [
        "from google.colab import drive\n",
        "drive.mount('/content/drive')"
      ]
    },
    {
      "cell_type": "code",
      "execution_count": 3,
      "metadata": {
        "id": "lWPdnaYdvqRi"
      },
      "outputs": [],
      "source": [
        "# load sound files as raw data\n",
        "def load_data(data_dir, excel_file):\n",
        "    data = [] # list of all raw audio array\n",
        "\n",
        "    for i in range(excel_file.shape[0]): # loop to load all files with the given name mentioned in exel file\n",
        "      aud = dir_wavfile+str(excel_file.iloc[i].values[0])+'.wav' #full path to heart wav file\n",
        "      dt , sr = lb.load(aud, sr=8000) # dt : raw array and sr:sampling rate\n",
        "      #print(aud)\n",
        "      dt = lb.to_mono(dt) # convert to mono channel if it is double\n",
        "      dt = dt.astype('float32')\n",
        "\n",
        "      # resampling frequecy rate into fix 2000 \n",
        "      number_of_samples = round(len(dt) * float(8000) / sr) # total samples in full signals\n",
        "      readings_resampled = signal.resample(dt, number_of_samples) # resample signal into calculated samples so getting 2000 sr. \n",
        "\n",
        "      #b, a = signal.butter(4, [0.03,0.5], 'bandpass', analog=False) # 4rt order banpass butterworth filter\n",
        "      #readings_filtered = signal.filtfilt(b, a, readings_resampled) # apply filter to signal\n",
        "\n",
        "      data.append([readings_resampled, excel_file.iloc[i].values[1]]) # append each signal into list as raw audio data\n",
        "\n",
        "    return np.array(data)\n",
        "\n",
        "# make Chunks\n",
        "def data_extension(data):\n",
        "  data_ext = [] # extended/trimmed data list of 10 sec equal chunks \n",
        "  y = [] # list of labels normal/abnormal\n",
        "  input_length = 8000*4 # 10 seconds\n",
        "\n",
        "  for i in range(0, len(data)): # loop through evey raw audio array\n",
        "    if len(data[i][0]) > input_length: # if signal len is greater then 10 sec\n",
        "          for t in range(0, len(data[i][0])-input_length, input_length):\n",
        "           temp = data[i][0][t:t + input_length]\n",
        "           data_ext.append(temp)\n",
        "           y.append(data[i][1])\n",
        "           temp2 = data[i][0][len(temp):]\n",
        "          if len(temp2)<input_length:# and len(temp2)>=4*2000:\n",
        "            dx = temp2\n",
        "            while (input_length>len(dx)):                                          # if signal len is less then 10 sec \n",
        "              dif = abs(input_length - len(dx))     # get require extended len \n",
        "              req_padd = dx[:dif]\n",
        "              dx = np.append(dx, req_padd, axis=0)\n",
        "              data_ext.append(dx)\n",
        "              y.append(dd[i][1])\n",
        "    \n",
        "    \n",
        "    else: \n",
        "      dx = data[i][0]\n",
        "      while (input_length>len(dx)):                                          # if signal len is less then 10 sec \n",
        "        dif = abs(input_length - len(dx))     # get require extended len \n",
        "        req_padd = dx[:dif]\n",
        "        dx = np.append(dx, req_padd, axis=0)\n",
        "        # for s in req_padd:\n",
        "        #   dx.append(s)\n",
        "    \n",
        "      #dx = np.pad(data[i][0], (0,dif), mode = 'constant') # append zeros at end of signal reading equal to require extended len\n",
        "      data_ext.append(dx) # append extended/trimmed data to list\n",
        "      y.append(data[i][1]) # append the label to label list\n",
        "\n",
        "  return data_ext, y\n",
        "\n",
        "# train_Val_test split\n",
        "def split_data(test_size, validation_size):\n",
        "    X_train, X_test, y_train, y_test = train_test_split(X, y, test_size=test_size)\n",
        "    X_train, X_validation, y_train, y_validation = train_test_split(X_train, y_train, test_size=validation_size)\n",
        "    return X_train, X_validation, X_test, y_train, y_validation, y_test"
      ]
    },
    {
      "cell_type": "code",
      "execution_count": 4,
      "metadata": {
        "colab": {
          "base_uri": "https://localhost:8080/"
        },
        "id": "FtOG2gBlwDjs",
        "outputId": "dca8b8ac-65ab-4cc3-f343-8c2b7d4fb87c"
      },
      "outputs": [
        {
          "output_type": "execute_result",
          "data": {
            "text/plain": [
              "5532"
            ]
          },
          "metadata": {},
          "execution_count": 4
        }
      ],
      "source": [
        "# geting data PCG sound samples\n",
        "dir_wavfile = \"/content/drive/MyDrive/FYP-Code/FYP-Final/Merged-Data/\"\n",
        "#excel_file = pd.read_excel(dir_wavfile+\"Labels.xlsx\", header=None)\n",
        "excel_file = pd.read_excel(\"/content/drive/MyDrive/FYP-Code/FYP-Final/Labels.xlsx\", header=None)\n",
        "excel_file.dropna(inplace=True)\n",
        "#excel_file = pd.read_csv(\"/content/drive/MyDrive/FYP-Code/Labels.txt\", header=None)\n",
        "excel_file.head()\n",
        "raw_data= load_data(dir_wavfile, excel_file)\n",
        "\n",
        "len(raw_data)"
      ]
    },
    {
      "cell_type": "code",
      "execution_count": 5,
      "metadata": {
        "colab": {
          "base_uri": "https://localhost:8080/"
        },
        "id": "Ma7d_uimwS2c",
        "outputId": "4fe4996a-01c6-42c9-a2e0-9116bd82743e"
      },
      "outputs": [
        {
          "output_type": "stream",
          "name": "stdout",
          "text": [
            "X_length: 5532\n",
            "y_length: 5532\n",
            "y_labels_count: Counter({0: 3230, 1: 2302})\n"
          ]
        }
      ],
      "source": [
        "# Preprocessing\n",
        "X, y = data_extension(raw_data)\n",
        "X = preprocessing.scale(X)\n",
        "y[:] = [0 if i==-1 else i for i in y]\n",
        "\n",
        "X, y = shuffle(X, y)\n",
        "#print(y[0:25])\n",
        "print(\"X_length:\",len(X))\n",
        "print(\"y_length:\",len(y))\n",
        "\n",
        "X = np.asarray(X)\n",
        "y = np.asarray(y)\n",
        "print(\"y_labels_count:\",Counter(y))"
      ]
    },
    {
      "cell_type": "code",
      "execution_count": 6,
      "metadata": {
        "colab": {
          "base_uri": "https://localhost:8080/"
        },
        "id": "ncd52vXMw8hK",
        "outputId": "37b1c5ee-f96f-4a20-b43a-3066b9451898"
      },
      "outputs": [
        {
          "output_type": "stream",
          "name": "stdout",
          "text": [
            "Train set: (4729, 32000)\n",
            "Test set: (277, 32000)\n",
            "Validation set: (526, 32000)\n"
          ]
        }
      ],
      "source": [
        "# get train, validation, test splits\n",
        "X_train, X_validation, X_test, y_train, y_validation, y_test = split_data(0.05, 0.1)\n",
        "#X_train, X_test, y_train, y_test = train_test_split(X,y, test_size=0.12)\n",
        "print(\"Train set:\",X_train.shape)\n",
        "print(\"Test set:\",X_test.shape)\n",
        "print(\"Validation set:\",X_validation.shape)"
      ]
    },
    {
      "cell_type": "code",
      "execution_count": 7,
      "metadata": {
        "colab": {
          "base_uri": "https://localhost:8080/"
        },
        "id": "SnWmi2Cv0KDa",
        "outputId": "f3591dc1-3433-47da-a3d4-d817525d4364"
      },
      "outputs": [
        {
          "output_type": "stream",
          "name": "stdout",
          "text": [
            "Train set: (4729, 8000, 4)\n",
            "Test set: (277, 8000, 4)\n",
            "Validation set: (526, 8000, 4)\n"
          ]
        }
      ],
      "source": [
        "# Reshaping data for 1D conv model\n",
        "X_train = X_train.reshape(4729,8000,4) \n",
        "X_test = X_test.reshape(277,8000,4)\n",
        "X_validation = X_validation.reshape(526,8000,4)\n",
        "print(\"Train set:\",X_train.shape)\n",
        "print(\"Test set:\",X_test.shape)\n",
        "print(\"Validation set:\",X_validation.shape)\n",
        "\n",
        "y_train = to_categorical(y_train, 2)\n",
        "y_test = to_categorical(y_test, 2)\n",
        "y_validation = to_categorical(y_validation, 2)"
      ]
    },
    {
      "cell_type": "markdown",
      "metadata": {
        "id": "ECtn9_aI7oS9"
      },
      "source": [
        "**1D Convolution Model**"
      ]
    },
    {
      "cell_type": "code",
      "execution_count": 8,
      "metadata": {
        "id": "G5hCYLER0ejC"
      },
      "outputs": [],
      "source": [
        "def Conv_model(X_train):\n",
        "\n",
        "    x_input = Input(shape =(X_train.shape[1], X_train.shape[2]))\n",
        "\n",
        "    conv0 = Conv1D(512, kernel_size=3, activation='relu', padding='same')(x_input) #, kernel_regularizer=l2(0.001)\n",
        "    D0=Dropout(0.25)(conv0)\n",
        "    pool0 = MaxPooling1D(pool_size=2,padding='same')(D0)\n",
        "\n",
        "    conv1 = Conv1D(128, kernel_size=3, activation='relu', padding='same')(pool0)\n",
        "    D1=Dropout(0.25)(conv1)\n",
        "    pool1 = MaxPooling1D(pool_size=2,padding='same')(D1)\n",
        "\n",
        "    conv2 = Conv1D(128, kernel_size=3, activation='relu', padding='same')(pool1)\n",
        "    D2=Dropout(0.25)(conv2)\n",
        "    pool2 = MaxPooling1D(pool_size=2,padding='same')(D2)\n",
        "\n",
        "    conv3 = Conv1D(64, kernel_size=3, activation='relu', padding='same')(pool2)\n",
        "    D3=Dropout(0.25)(conv3)\n",
        "    pool3 = MaxPooling1D(pool_size=2,padding='same')(D3)\n",
        "\n",
        "    conv4 = Conv1D(32, kernel_size=3, activation='relu', padding='same')(pool3)\n",
        "    D4=Dropout(0.25)(conv4)\n",
        "    pool4 = MaxPooling1D(pool_size=2,padding='same')(D4)\n",
        "\n",
        "    conv5 = Conv1D(16, kernel_size=3, activation='relu', padding='same')(pool4)\n",
        "    D5=Dropout(0.25)(conv5)\n",
        "    pool5 = MaxPooling1D(pool_size=2,padding='same')(D5)\n",
        "\n",
        "    flat1 = Flatten()(pool5)\n",
        "    #D6=Dropout(0.25)(flat1)\n",
        "\n",
        "    output = Dense(2, activation = 'softmax')(flat1) #softmax\n",
        "    model = Model(inputs=x_input, outputs=output)\n",
        "    \n",
        "    return model"
      ]
    },
    {
      "cell_type": "code",
      "execution_count": null,
      "metadata": {
        "colab": {
          "base_uri": "https://localhost:8080/"
        },
        "id": "L2yg25sV0ldX",
        "outputId": "7fcda6c0-4865-4cfb-f71b-d4a609a5fba7"
      },
      "outputs": [
        {
          "output_type": "stream",
          "name": "stdout",
          "text": [
            "WARNING:tensorflow:ModelCheckpoint mode mini is unknown, fallback to auto mode.\n",
            "Epoch 1/150\n",
            "1183/1183 [==============================] - 47s 29ms/step - loss: 0.6882 - accuracy: 0.5509 - val_loss: 0.6805 - val_accuracy: 0.5856\n",
            "Epoch 2/150\n",
            "1183/1183 [==============================] - 34s 29ms/step - loss: 0.6683 - accuracy: 0.5910 - val_loss: 0.6661 - val_accuracy: 0.5875\n",
            "Epoch 3/150\n",
            "1183/1183 [==============================] - 34s 29ms/step - loss: 0.6291 - accuracy: 0.6376 - val_loss: 0.6330 - val_accuracy: 0.6331\n",
            "Epoch 4/150\n",
            "1183/1183 [==============================] - 34s 29ms/step - loss: 0.5697 - accuracy: 0.6953 - val_loss: 0.5845 - val_accuracy: 0.6787\n",
            "Epoch 5/150\n",
            "1183/1183 [==============================] - 35s 29ms/step - loss: 0.5149 - accuracy: 0.7355 - val_loss: 0.5519 - val_accuracy: 0.6882\n",
            "Epoch 6/150\n",
            "1183/1183 [==============================] - 35s 29ms/step - loss: 0.4846 - accuracy: 0.7456 - val_loss: 0.5256 - val_accuracy: 0.7148\n",
            "Epoch 7/150\n",
            "1183/1183 [==============================] - 35s 29ms/step - loss: 0.4593 - accuracy: 0.7619 - val_loss: 0.5140 - val_accuracy: 0.7072\n",
            "Epoch 8/150\n",
            "1183/1183 [==============================] - 34s 29ms/step - loss: 0.4347 - accuracy: 0.7866 - val_loss: 0.4978 - val_accuracy: 0.7110\n",
            "Epoch 9/150\n",
            "1183/1183 [==============================] - 35s 29ms/step - loss: 0.4233 - accuracy: 0.7911 - val_loss: 0.4764 - val_accuracy: 0.7338\n",
            "Epoch 10/150\n",
            "1183/1183 [==============================] - 34s 29ms/step - loss: 0.4069 - accuracy: 0.8078 - val_loss: 0.4699 - val_accuracy: 0.7205\n",
            "Epoch 11/150\n",
            "1183/1183 [==============================] - 34s 29ms/step - loss: 0.3874 - accuracy: 0.8268 - val_loss: 0.4539 - val_accuracy: 0.7433\n",
            "Epoch 12/150\n",
            "1183/1183 [==============================] - 35s 29ms/step - loss: 0.3765 - accuracy: 0.8323 - val_loss: 0.4360 - val_accuracy: 0.7852\n",
            "Epoch 13/150\n",
            "1183/1183 [==============================] - 34s 29ms/step - loss: 0.3651 - accuracy: 0.8397 - val_loss: 0.4328 - val_accuracy: 0.7490\n",
            "Epoch 14/150\n",
            "1183/1183 [==============================] - 35s 29ms/step - loss: 0.3495 - accuracy: 0.8486 - val_loss: 0.4287 - val_accuracy: 0.7490\n",
            "Epoch 15/150\n",
            "1183/1183 [==============================] - 35s 29ms/step - loss: 0.3425 - accuracy: 0.8575 - val_loss: 0.4199 - val_accuracy: 0.7567\n",
            "Epoch 16/150\n",
            "1183/1183 [==============================] - 35s 30ms/step - loss: 0.3269 - accuracy: 0.8678 - val_loss: 0.4015 - val_accuracy: 0.7966\n",
            "Epoch 17/150\n",
            "1183/1183 [==============================] - 35s 29ms/step - loss: 0.3224 - accuracy: 0.8708 - val_loss: 0.3906 - val_accuracy: 0.8555\n",
            "Epoch 18/150\n",
            "1183/1183 [==============================] - 35s 29ms/step - loss: 0.3094 - accuracy: 0.8795 - val_loss: 0.3828 - val_accuracy: 0.8441\n",
            "Epoch 19/150\n",
            "1183/1183 [==============================] - 35s 29ms/step - loss: 0.2984 - accuracy: 0.8875 - val_loss: 0.3723 - val_accuracy: 0.8479\n",
            "Epoch 20/150\n",
            "1183/1183 [==============================] - 35s 30ms/step - loss: 0.2939 - accuracy: 0.8873 - val_loss: 0.3626 - val_accuracy: 0.8593\n",
            "Epoch 21/150\n",
            "1183/1183 [==============================] - 35s 29ms/step - loss: 0.2813 - accuracy: 0.8953 - val_loss: 0.3666 - val_accuracy: 0.8289\n",
            "Epoch 22/150\n",
            "1183/1183 [==============================] - 35s 29ms/step - loss: 0.2734 - accuracy: 0.8949 - val_loss: 0.3641 - val_accuracy: 0.8213\n",
            "Epoch 23/150\n",
            "1183/1183 [==============================] - 34s 29ms/step - loss: 0.2663 - accuracy: 0.9034 - val_loss: 0.3503 - val_accuracy: 0.8612\n",
            "Epoch 24/150\n",
            "1183/1183 [==============================] - 35s 29ms/step - loss: 0.2559 - accuracy: 0.9093 - val_loss: 0.3407 - val_accuracy: 0.8669\n",
            "Epoch 25/150\n",
            "1183/1183 [==============================] - 34s 29ms/step - loss: 0.2517 - accuracy: 0.9106 - val_loss: 0.3260 - val_accuracy: 0.8688\n",
            "Epoch 26/150\n",
            "1183/1183 [==============================] - 34s 29ms/step - loss: 0.2454 - accuracy: 0.9103 - val_loss: 0.3136 - val_accuracy: 0.8954\n",
            "Epoch 27/150\n",
            "1183/1183 [==============================] - 34s 29ms/step - loss: 0.2331 - accuracy: 0.9171 - val_loss: 0.3061 - val_accuracy: 0.8745\n",
            "Epoch 28/150\n",
            "1183/1183 [==============================] - 35s 29ms/step - loss: 0.2327 - accuracy: 0.9169 - val_loss: 0.3171 - val_accuracy: 0.8650\n",
            "Epoch 29/150\n",
            "1183/1183 [==============================] - 34s 29ms/step - loss: 0.2284 - accuracy: 0.9188 - val_loss: 0.3059 - val_accuracy: 0.8745\n",
            "Epoch 30/150\n",
            "1183/1183 [==============================] - 34s 29ms/step - loss: 0.2223 - accuracy: 0.9247 - val_loss: 0.3133 - val_accuracy: 0.8783\n",
            "Epoch 31/150\n",
            "1183/1183 [==============================] - 35s 29ms/step - loss: 0.2185 - accuracy: 0.9222 - val_loss: 0.3564 - val_accuracy: 0.8118\n",
            "Epoch 32/150\n",
            "1183/1183 [==============================] - 34s 29ms/step - loss: 0.2147 - accuracy: 0.9232 - val_loss: 0.2986 - val_accuracy: 0.8650\n",
            "Epoch 33/150\n",
            "1183/1183 [==============================] - 34s 29ms/step - loss: 0.2102 - accuracy: 0.9256 - val_loss: 0.2727 - val_accuracy: 0.9125\n",
            "Epoch 34/150\n",
            "1183/1183 [==============================] - 34s 29ms/step - loss: 0.2051 - accuracy: 0.9296 - val_loss: 0.2670 - val_accuracy: 0.9183\n",
            "Epoch 35/150\n",
            "1183/1183 [==============================] - 35s 29ms/step - loss: 0.2011 - accuracy: 0.9323 - val_loss: 0.2810 - val_accuracy: 0.8878\n",
            "Epoch 36/150\n",
            "1183/1183 [==============================] - 34s 29ms/step - loss: 0.1977 - accuracy: 0.9294 - val_loss: 0.2968 - val_accuracy: 0.8707\n",
            "Epoch 37/150\n",
            "1183/1183 [==============================] - 35s 29ms/step - loss: 0.1958 - accuracy: 0.9353 - val_loss: 0.2623 - val_accuracy: 0.9183\n",
            "Epoch 38/150\n",
            "1183/1183 [==============================] - 35s 30ms/step - loss: 0.1963 - accuracy: 0.9342 - val_loss: 0.2626 - val_accuracy: 0.9202\n",
            "Epoch 39/150\n",
            "1183/1183 [==============================] - 35s 30ms/step - loss: 0.1954 - accuracy: 0.9334 - val_loss: 0.2721 - val_accuracy: 0.8954\n",
            "Epoch 40/150\n",
            "1183/1183 [==============================] - 35s 30ms/step - loss: 0.1868 - accuracy: 0.9380 - val_loss: 0.2586 - val_accuracy: 0.9068\n",
            "Epoch 41/150\n",
            "1183/1183 [==============================] - 35s 30ms/step - loss: 0.1891 - accuracy: 0.9296 - val_loss: 0.2669 - val_accuracy: 0.8973\n",
            "Epoch 42/150\n",
            "1183/1183 [==============================] - 35s 30ms/step - loss: 0.1927 - accuracy: 0.9330 - val_loss: 0.2826 - val_accuracy: 0.8840\n",
            "Epoch 43/150\n",
            "1183/1183 [==============================] - 35s 30ms/step - loss: 0.1842 - accuracy: 0.9349 - val_loss: 0.2956 - val_accuracy: 0.8631\n",
            "Epoch 44/150\n",
            "1183/1183 [==============================] - 35s 30ms/step - loss: 0.1811 - accuracy: 0.9378 - val_loss: 0.2513 - val_accuracy: 0.9125\n",
            "Epoch 45/150\n",
            "1183/1183 [==============================] - 35s 30ms/step - loss: 0.1814 - accuracy: 0.9364 - val_loss: 0.2728 - val_accuracy: 0.8878\n",
            "Epoch 46/150\n",
            "1183/1183 [==============================] - 35s 30ms/step - loss: 0.1769 - accuracy: 0.9389 - val_loss: 0.2568 - val_accuracy: 0.9049\n",
            "Epoch 47/150\n",
            "1183/1183 [==============================] - 35s 30ms/step - loss: 0.1732 - accuracy: 0.9393 - val_loss: 0.2344 - val_accuracy: 0.9354\n",
            "Epoch 48/150\n",
            "1183/1183 [==============================] - 35s 30ms/step - loss: 0.1736 - accuracy: 0.9397 - val_loss: 0.2377 - val_accuracy: 0.9183\n",
            "Epoch 49/150\n",
            "1183/1183 [==============================] - 35s 30ms/step - loss: 0.1804 - accuracy: 0.9357 - val_loss: 0.2647 - val_accuracy: 0.8916\n",
            "Epoch 50/150\n",
            "1183/1183 [==============================] - 35s 30ms/step - loss: 0.1724 - accuracy: 0.9425 - val_loss: 0.2577 - val_accuracy: 0.9011\n",
            "Epoch 51/150\n",
            "1183/1183 [==============================] - 35s 30ms/step - loss: 0.1724 - accuracy: 0.9425 - val_loss: 0.2358 - val_accuracy: 0.9278\n",
            "Epoch 52/150\n",
            "1183/1183 [==============================] - 35s 30ms/step - loss: 0.1694 - accuracy: 0.9421 - val_loss: 0.2505 - val_accuracy: 0.9125\n",
            "Epoch 53/150\n",
            "1183/1183 [==============================] - 35s 30ms/step - loss: 0.1631 - accuracy: 0.9448 - val_loss: 0.2474 - val_accuracy: 0.9106\n",
            "Epoch 54/150\n",
            "1183/1183 [==============================] - 36s 30ms/step - loss: 0.1629 - accuracy: 0.9431 - val_loss: 0.2781 - val_accuracy: 0.8745\n",
            "Epoch 55/150\n",
            "1183/1183 [==============================] - 35s 30ms/step - loss: 0.1696 - accuracy: 0.9359 - val_loss: 0.2241 - val_accuracy: 0.9335\n",
            "Epoch 56/150\n",
            "1183/1183 [==============================] - 35s 30ms/step - loss: 0.1691 - accuracy: 0.9397 - val_loss: 0.2490 - val_accuracy: 0.9049\n",
            "Epoch 57/150\n",
            "1183/1183 [==============================] - 35s 30ms/step - loss: 0.1602 - accuracy: 0.9433 - val_loss: 0.2384 - val_accuracy: 0.9125\n",
            "Epoch 58/150\n",
            "1183/1183 [==============================] - 35s 30ms/step - loss: 0.1613 - accuracy: 0.9471 - val_loss: 0.2297 - val_accuracy: 0.9221\n",
            "Epoch 59/150\n",
            "1183/1183 [==============================] - 35s 30ms/step - loss: 0.1619 - accuracy: 0.9429 - val_loss: 0.2958 - val_accuracy: 0.8536\n",
            "Epoch 60/150\n",
            "1183/1183 [==============================] - 35s 30ms/step - loss: 0.1641 - accuracy: 0.9412 - val_loss: 0.2173 - val_accuracy: 0.9373\n",
            "Epoch 61/150\n",
            "1183/1183 [==============================] - 35s 30ms/step - loss: 0.1583 - accuracy: 0.9497 - val_loss: 0.2153 - val_accuracy: 0.9373\n",
            "Epoch 62/150\n",
            "1183/1183 [==============================] - 35s 30ms/step - loss: 0.1562 - accuracy: 0.9478 - val_loss: 0.2180 - val_accuracy: 0.9411\n",
            "Epoch 63/150\n",
            "1183/1183 [==============================] - 35s 30ms/step - loss: 0.1575 - accuracy: 0.9473 - val_loss: 0.2364 - val_accuracy: 0.9240\n",
            "Epoch 64/150\n",
            "1183/1183 [==============================] - 35s 30ms/step - loss: 0.1500 - accuracy: 0.9465 - val_loss: 0.2417 - val_accuracy: 0.9259\n",
            "Epoch 66/150\n",
            "1183/1183 [==============================] - 35s 30ms/step - loss: 0.1483 - accuracy: 0.9497 - val_loss: 0.2138 - val_accuracy: 0.9354\n",
            "Epoch 67/150\n",
            "1183/1183 [==============================] - 35s 30ms/step - loss: 0.1491 - accuracy: 0.9507 - val_loss: 0.2083 - val_accuracy: 0.9468\n",
            "Epoch 68/150\n",
            "1183/1183 [==============================] - 35s 30ms/step - loss: 0.1490 - accuracy: 0.9505 - val_loss: 0.2157 - val_accuracy: 0.9316\n",
            "Epoch 69/150\n",
            "1183/1183 [==============================] - 35s 30ms/step - loss: 0.1467 - accuracy: 0.9499 - val_loss: 0.2652 - val_accuracy: 0.8745\n",
            "Epoch 70/150\n",
            "1183/1183 [==============================] - 35s 30ms/step - loss: 0.1443 - accuracy: 0.9509 - val_loss: 0.2258 - val_accuracy: 0.9221\n",
            "Epoch 71/150\n",
            "1183/1183 [==============================] - 35s 30ms/step - loss: 0.1473 - accuracy: 0.9512 - val_loss: 0.2037 - val_accuracy: 0.9487\n",
            "Epoch 72/150\n",
            "1183/1183 [==============================] - 35s 30ms/step - loss: 0.1384 - accuracy: 0.9545 - val_loss: 0.2304 - val_accuracy: 0.9221\n",
            "Epoch 73/150\n",
            "1183/1183 [==============================] - 35s 30ms/step - loss: 0.1417 - accuracy: 0.9509 - val_loss: 0.2072 - val_accuracy: 0.9411\n",
            "Epoch 74/150\n",
            "1183/1183 [==============================] - 35s 30ms/step - loss: 0.1383 - accuracy: 0.9514 - val_loss: 0.2338 - val_accuracy: 0.9163\n",
            "Epoch 75/150\n",
            "1183/1183 [==============================] - 35s 30ms/step - loss: 0.1377 - accuracy: 0.9541 - val_loss: 0.2017 - val_accuracy: 0.9392\n",
            "Epoch 76/150\n",
            "1183/1183 [==============================] - 35s 30ms/step - loss: 0.1345 - accuracy: 0.9550 - val_loss: 0.1900 - val_accuracy: 0.9506\n",
            "Epoch 77/150\n",
            "1183/1183 [==============================] - 35s 30ms/step - loss: 0.1345 - accuracy: 0.9545 - val_loss: 0.2124 - val_accuracy: 0.9335\n",
            "Epoch 78/150\n",
            "1183/1183 [==============================] - 35s 30ms/step - loss: 0.1366 - accuracy: 0.9533 - val_loss: 0.1990 - val_accuracy: 0.9430\n",
            "Epoch 79/150\n",
            "1183/1183 [==============================] - 35s 30ms/step - loss: 0.1386 - accuracy: 0.9518 - val_loss: 0.2164 - val_accuracy: 0.9297\n",
            "Epoch 80/150\n",
            "1183/1183 [==============================] - 35s 30ms/step - loss: 0.1348 - accuracy: 0.9531 - val_loss: 0.2006 - val_accuracy: 0.9411\n",
            "Epoch 81/150\n",
            "1183/1183 [==============================] - 35s 30ms/step - loss: 0.1348 - accuracy: 0.9526 - val_loss: 0.2076 - val_accuracy: 0.9354\n",
            "Epoch 82/150\n",
            "1183/1183 [==============================] - 36s 30ms/step - loss: 0.1311 - accuracy: 0.9569 - val_loss: 0.1944 - val_accuracy: 0.9430\n",
            "Epoch 83/150\n",
            "1183/1183 [==============================] - 35s 30ms/step - loss: 0.1291 - accuracy: 0.9573 - val_loss: 0.1994 - val_accuracy: 0.9411\n",
            "Epoch 84/150\n",
            "1183/1183 [==============================] - 35s 30ms/step - loss: 0.1293 - accuracy: 0.9547 - val_loss: 0.2157 - val_accuracy: 0.9316\n",
            "Epoch 85/150\n",
            "1183/1183 [==============================] - 36s 30ms/step - loss: 0.1289 - accuracy: 0.9571 - val_loss: 0.2041 - val_accuracy: 0.9392\n",
            "Epoch 86/150\n",
            "1183/1183 [==============================] - 35s 30ms/step - loss: 0.1294 - accuracy: 0.9554 - val_loss: 0.1872 - val_accuracy: 0.9468\n",
            "Epoch 87/150\n",
            "1183/1183 [==============================] - 35s 30ms/step - loss: 0.1312 - accuracy: 0.9550 - val_loss: 0.2101 - val_accuracy: 0.9316\n",
            "Epoch 88/150\n",
            "1183/1183 [==============================] - 35s 30ms/step - loss: 0.1292 - accuracy: 0.9531 - val_loss: 0.2174 - val_accuracy: 0.9221\n",
            "Epoch 89/150\n",
            "1183/1183 [==============================] - 35s 30ms/step - loss: 0.1283 - accuracy: 0.9569 - val_loss: 0.2408 - val_accuracy: 0.8935\n",
            "Epoch 90/150\n",
            "1183/1183 [==============================] - 35s 30ms/step - loss: 0.1277 - accuracy: 0.9575 - val_loss: 0.1967 - val_accuracy: 0.9411\n",
            "Epoch 91/150\n",
            "1183/1183 [==============================] - 35s 30ms/step - loss: 0.1301 - accuracy: 0.9556 - val_loss: 0.2065 - val_accuracy: 0.9354\n",
            "Epoch 92/150\n",
            "1183/1183 [==============================] - 35s 30ms/step - loss: 0.1248 - accuracy: 0.9569 - val_loss: 0.1842 - val_accuracy: 0.9449\n",
            "Epoch 93/150\n",
            "1183/1183 [==============================] - 35s 30ms/step - loss: 0.1219 - accuracy: 0.9592 - val_loss: 0.1846 - val_accuracy: 0.9468\n",
            "Epoch 94/150\n",
            "1183/1183 [==============================] - 35s 30ms/step - loss: 0.1186 - accuracy: 0.9594 - val_loss: 0.1932 - val_accuracy: 0.9449\n",
            "Epoch 95/150\n",
            "1183/1183 [==============================] - 35s 30ms/step - loss: 0.1231 - accuracy: 0.9571 - val_loss: 0.1951 - val_accuracy: 0.9449\n",
            "Epoch 96/150\n",
            "1183/1183 [==============================] - 35s 30ms/step - loss: 0.1183 - accuracy: 0.9590 - val_loss: 0.1876 - val_accuracy: 0.9430\n",
            "Epoch 97/150\n",
            "1183/1183 [==============================] - 35s 30ms/step - loss: 0.1216 - accuracy: 0.9556 - val_loss: 0.1913 - val_accuracy: 0.9487\n",
            "Epoch 98/150\n",
            "1183/1183 [==============================] - 35s 30ms/step - loss: 0.1232 - accuracy: 0.9588 - val_loss: 0.1731 - val_accuracy: 0.9506\n",
            "Epoch 99/150\n",
            "1183/1183 [==============================] - 35s 30ms/step - loss: 0.1161 - accuracy: 0.9619 - val_loss: 0.1741 - val_accuracy: 0.9506\n",
            "Epoch 100/150\n",
            "1183/1183 [==============================] - 35s 30ms/step - loss: 0.1222 - accuracy: 0.9581 - val_loss: 0.1812 - val_accuracy: 0.9487\n",
            "Epoch 101/150\n",
            "1183/1183 [==============================] - 35s 30ms/step - loss: 0.1192 - accuracy: 0.9607 - val_loss: 0.1724 - val_accuracy: 0.9430\n",
            "Epoch 102/150\n",
            "1183/1183 [==============================] - 35s 30ms/step - loss: 0.1191 - accuracy: 0.9592 - val_loss: 0.1818 - val_accuracy: 0.9506\n",
            "Epoch 103/150\n",
            " 297/1183 [======>.......................] - ETA: 25s - loss: 0.1091 - accuracy: 0.9646"
          ]
        }
      ],
      "source": [
        "model = Conv_model(X_train)\n",
        "#model.summary()\n",
        "# compile model\n",
        "optimiser = Adam(learning_rate=0.00001)\n",
        "model.compile(optimizer=optimiser, loss='binary_crossentropy', metrics=['accuracy'])\n",
        "# checkpoint\n",
        "filepath=\"weights-improvement-{epoch:02d}-{val_accuracy:.2f}.hdf5\"\n",
        "checkpoint = ModelCheckpoint(filepath, monitor='loss', verbose=1, save_best_only=True, mode='mini')\n",
        "callbacks_list = [checkpoint]\n",
        "\n",
        "# train model\n",
        "history = model.fit(X_train, y_train, validation_data=(X_validation, y_validation), batch_size=4, epochs=150)\n",
        "model.save(r'/content/conv_model1')\n",
        "model.save(r'/content/conv_model1.h5')\n",
        "model.save_weights(r'/content/model_weights1.h5')"
      ]
    },
    {
      "cell_type": "markdown",
      "metadata": {
        "id": "6FJXW-EO1VjY"
      },
      "source": [
        "**Performance**"
      ]
    },
    {
      "cell_type": "code",
      "execution_count": 10,
      "metadata": {
        "colab": {
          "base_uri": "https://localhost:8080/",
          "height": 683
        },
        "id": "VHkslUFk0_Wv",
        "outputId": "a47e5fbf-c97d-4c52-8e78-508478646c79"
      },
      "outputs": [
        {
          "output_type": "display_data",
          "data": {
            "text/plain": [
              "<Figure size 360x360 with 1 Axes>"
            ],
            "image/png": "[encoded data removed]"
          },
          "metadata": {
            "needs_background": "light"
          }
        },
        {
          "output_type": "display_data",
          "data": {
            "text/plain": [
              "<Figure size 360x360 with 1 Axes>"
            ],
            "image/png": "[encoded data removed]"
          },
          "metadata": {
            "needs_background": "light"
          }
        }
      ],
      "source": [
        "acc = history.history['accuracy']\n",
        "val_acc = history.history['val_accuracy']\n",
        "loss = history.history['loss']\n",
        "val_loss = history.history['val_loss']\n",
        "epochs_range = range(150)\n",
        "\n",
        "#plt.subplot(2, 2, 1)\n",
        "plt.figure(figsize=(5, 5))\n",
        "plt.plot(epochs_range, acc, label='Training Accuracy')\n",
        "plt.plot(epochs_range, val_acc, label='Validation Accuracy')\n",
        "plt.legend(loc='lower right')\n",
        "plt.title('Training and Validation Accuracy')\n",
        "plt.ylabel(\"Accuracy (training and validation)\")\n",
        "plt.xlabel(\"Training Steps\")\n",
        "#plt.savefig('/content/drive/MyDrive/Colab Notebooks/train_val_accuracy.png')\n",
        "plt.show()\n",
        "#plt.subplot(2, 2, 2)\n",
        "plt.figure(figsize=(5, 5))\n",
        "plt.plot(epochs_range, loss, label='Training Loss')\n",
        "plt.plot(epochs_range, val_loss, label='Validation Loss')\n",
        "plt.legend(loc='upper right')\n",
        "plt.title('Training and Validation Loss')\n",
        "plt.ylabel(\"Loss (training and validation)\")\n",
        "plt.xlabel(\"Training Steps\")\n",
        "#plt.savefig('/content/drive/MyDrive/Colab Notebooks/train_val_loss.png')\n",
        "plt.show()"
      ]
    },
    {
      "cell_type": "code",
      "execution_count": 11,
      "metadata": {
        "id": "aUqd53ky13uB"
      },
      "outputs": [],
      "source": [
        "def evaluation_metrics(y_true, y_pred):\n",
        "    accuracy = round(accuracy_score(y_true, y_pred) * 100, 2)\n",
        "    precision = round(precision_score(y_true, y_pred,average='weighted') * 100, 2)\n",
        "    f1Score = round(f1_score(y_true, y_pred, average='weighted') * 100, 2) \n",
        "    target_names=['Abnormal','Normal']\n",
        "    cm=confusion_matrix(y_true, y_pred)\n",
        "    tn = cm[0][0]\n",
        "    fn = cm[1][0]\n",
        "    tp = cm[1][1]\n",
        "    fp = cm[0][1]\n",
        "    specificity = tn / (tn+fp)\n",
        "    sensitivity = tp / (tp+fn)\n",
        "    ppv= tp / (tp+fp)\n",
        "    npr= tn / (tn+fn)\n",
        "\n",
        "    print(\"Accuracy  : {}\".format(accuracy))\n",
        "    print(\"Precision : {}\".format(precision))\n",
        "    print(\"f1Score : {}\".format(f1Score))\n",
        "    print(\"\\nconfusion_matrix\")\n",
        "    print(cm)\n",
        "    print(\"\\nTrue Negative  : {}\".format(tn))\n",
        "    print(\"Flase Positive  : {}\".format(fp))\n",
        "    print(\"False Negative  : {}\".format(fn))\n",
        "    print(\"True Positive  : {}\".format(tp))\n",
        "    print(\"\\nSpecificity  : {}\".format(specificity))\n",
        "    print(\"Sensitivity  : {}\".format(sensitivity))\n",
        "    print(\"Positive predictive value (PPV): {}\".format(ppv))\n",
        "    print(\"Negative predictive value (NPV)  : {}\".format(npr))\n",
        "  \n",
        "    return accuracy, precision, f1Score, cm"
      ]
    },
    {
      "cell_type": "code",
      "execution_count": 12,
      "metadata": {
        "colab": {
          "base_uri": "https://localhost:8080/"
        },
        "id": "Vl_zQBMu7Js5",
        "outputId": "f0ad196a-a3de-4e64-e1b6-963f1b829ad8"
      },
      "outputs": [
        {
          "output_type": "stream",
          "name": "stdout",
          "text": [
            "17/17 [==============================] - 2s 65ms/step\n",
            "Validation data:\n",
            "Accuracy  : 98.1\n",
            "Precision : 98.13\n",
            "f1Score : 98.1\n",
            "\n",
            "confusion_matrix\n",
            "[[302   8]\n",
            " [  2 214]]\n",
            "\n",
            "True Negative  : 302\n",
            "Flase Positive  : 8\n",
            "False Negative  : 2\n",
            "True Positive  : 214\n",
            "\n",
            "Specificity  : 0.9741935483870968\n",
            "Sensitivity  : 0.9907407407407407\n",
            "Positive predictive value (PPV): 0.963963963963964\n",
            "Negative predictive value (NPV)  : 0.993421052631579\n"
          ]
        }
      ],
      "source": [
        "# Validation\n",
        "validation_data_cnn = (X_validation, y_validation)\n",
        "predictions_cnn_validation = model.predict(X_validation, verbose=1)\n",
        "yPredictions_cnn_validation = np.argmax(predictions_cnn_validation, axis=1)\n",
        "true_classes_cnn_validation=np.argmax(y_validation, axis=1)\n",
        "print(\"Validation data:\")    \n",
        "valAcc, valPrec, valFScore,valcm = evaluation_metrics(true_classes_cnn_validation, yPredictions_cnn_validation)"
      ]
    },
    {
      "cell_type": "code",
      "execution_count": 13,
      "metadata": {
        "colab": {
          "base_uri": "https://localhost:8080/"
        },
        "id": "xyYruXIh7Uj1",
        "outputId": "b858f2b5-6a01-43ac-b67d-224ce47f64e3"
      },
      "outputs": [
        {
          "output_type": "stream",
          "name": "stdout",
          "text": [
            "9/9 [==============================] - 1s 98ms/step\n",
            "Real test data:\n",
            "Accuracy  : 98.56\n",
            "Precision : 98.56\n",
            "f1Score : 98.56\n",
            "\n",
            "confusion_matrix\n",
            "[[159   2]\n",
            " [  2 114]]\n",
            "\n",
            "True Negative  : 159\n",
            "Flase Positive  : 2\n",
            "False Negative  : 2\n",
            "True Positive  : 114\n",
            "\n",
            "Specificity  : 0.9875776397515528\n",
            "Sensitivity  : 0.9827586206896551\n",
            "Positive predictive value (PPV): 0.9827586206896551\n",
            "Negative predictive value (NPV)  : 0.9875776397515528\n"
          ]
        }
      ],
      "source": [
        "# Real Test Data\n",
        "test_data_cnn = (X_test, y_test)\n",
        "predictions_cnn_test = model.predict(X_test, verbose=1)\n",
        "yPredictions_cnn_test = np.argmax(predictions_cnn_test, axis=1)\n",
        "true_classes_cnn_test=np.argmax(y_test, axis=1)\n",
        "print(\"Real test data:\")    \n",
        "valAcc, valPrec, valFScore,valcm = evaluation_metrics(true_classes_cnn_test, yPredictions_cnn_test)"
      ]
    },
    {
      "cell_type": "markdown",
      "metadata": {
        "id": "_SoFJJqMniLy"
      },
      "source": [
        "**Test on a single audio**"
      ]
    },
    {
      "cell_type": "code",
      "execution_count": 30,
      "metadata": {
        "id": "VJYI7iKKxYNS"
      },
      "outputs": [],
      "source": [
        "#aud = \"/content/Normal sounds_744-20211118101046-19–33-Male-Normal.wav\"\n",
        "aud = \"/content/AD1625296193763.wav\"\n",
        "dt , sr = lb.load(aud, sr=8000) # dt : raw array and sr:sampling rate\n",
        "dt = lb.to_mono(dt) # convert to mono channel if it is double\n",
        "dt = dt.astype('float32')\n",
        "\n",
        "# resampling frequecy rate into fix 2000 \n",
        "number_of_samples = round(len(dt) * float(8000) / sr) # total samples in full signals\n",
        "aud_resampled = signal.resample(dt, number_of_samples) # resample signal into calculated samples so getting 2000 sr. \n",
        "\n",
        "# b, a = signal.butter(4, [0.03,0.5], 'bandpass', analog=False) # 4rt order banpass butterworth filter\n",
        "# aud_filtered = signal.filtfilt(b, a, aud_resampled) # apply filter to signal\n",
        "\n",
        "aud_filtered = aud_resampled\n",
        "\n",
        "input_length = 8000*4 # 10 seconds\n",
        "if len(aud_filtered) > input_length: # if audio len is greater then 10 sec\n",
        "  max_offset = len(aud_filtered) - input_length   # max limit \n",
        "  offset = np.random.randint(max_offset)   # get a random position in the signal upto max limit\n",
        "  aud_final = aud_filtered[offset:(input_length+offset)]  # get signal readings upto 10 sec \n",
        "else:                                           # if signal len is less then 10 sec \n",
        "  dif = abs(input_length - len(aud_filtered))     # get require extended len \n",
        "  aud_final = np.pad(aud_filtered, (0,dif), mode = 'constant') # append zeros at end of signal reading equal to require extended len\n",
        "\n",
        "import soundfile as sf\n",
        "sf.write('processed_audio2.wav', aud_final, 8000)"
      ]
    },
    {
      "cell_type": "code",
      "execution_count": 31,
      "metadata": {
        "colab": {
          "base_uri": "https://localhost:8080/"
        },
        "id": "fAXSNbmJ1Gvv",
        "outputId": "74e8714e-e1e7-4a37-df70-b5fdb0deb54f"
      },
      "outputs": [
        {
          "output_type": "stream",
          "name": "stdout",
          "text": [
            "Total_samples: 48320\n",
            "Sampling rate: 8000\n",
            "Audio Duration: 6.04\n",
            "Shape (48320,)\n"
          ]
        }
      ],
      "source": [
        "aud = \"/content/AD1625296193763.wav\"\n",
        "dt , sr = lb.load(aud, sr=8000) # dt : raw array and sr:sampling rate\n",
        "print(\"Total_samples:\",len(dt))\n",
        "print(\"Sampling rate:\",sr)\n",
        "print(\"Audio Duration:\",len(dt)/sr)\n",
        "print(\"Shape\", dt.shape)\n",
        "#print(\"Reshape for Model\",dt.reshape(1,2000,10).shape)"
      ]
    },
    {
      "cell_type": "code",
      "execution_count": 32,
      "metadata": {
        "colab": {
          "base_uri": "https://localhost:8080/"
        },
        "id": "fNYHGJqatq0m",
        "outputId": "596a2117-d7f8-49bf-a1b3-2e1d0b9fd18d"
      },
      "outputs": [
        {
          "output_type": "execute_result",
          "data": {
            "text/plain": [
              "array([[0.78178763, 0.2182124 ]], dtype=float32)"
            ]
          },
          "metadata": {},
          "execution_count": 32
        }
      ],
      "source": [
        "import tensorflow as tf\n",
        "aud = \"/content/processed_audio2.wav\"\n",
        "dd,s=lb.load(aud,sr=8000)\n",
        "dd = dd.reshape(1,8000,4)\n",
        "model = tf.keras.models.load_model(\"/content/conv_model1.h5\")\n",
        "classes_prob = model.predict(dd)\n",
        "classes_prob"
      ]
    },
    {
      "cell_type": "code",
      "execution_count": 34,
      "metadata": {
        "id": "5yPdk3bPGAEW",
        "colab": {
          "base_uri": "https://localhost:8080/",
          "height": 130
        },
        "outputId": "6f79b572-2768-4eef-aafb-7e1162bd0128"
      },
      "outputs": [
        {
          "output_type": "error",
          "ename": "IndentationError",
          "evalue": "ignored",
          "traceback": [
            "\u001b[0;36m  File \u001b[0;32m\"<ipython-input-34-e41865280cc0>\"\u001b[0;36m, line \u001b[0;32m2\u001b[0m\n\u001b[0;31m    print(\"Probability\",class1)\u001b[0m\n\u001b[0m    ^\u001b[0m\n\u001b[0;31mIndentationError\u001b[0m\u001b[0;31m:\u001b[0m unexpected indent\n"
          ]
        }
      ],
      "source": [
        "class1 = model.predict(dd)\n",
        "   print(\"Probability\",class1)\n",
        "  classes=np.argmax(class1)\n",
        "  \n",
        "  if classes == 0:\n",
        "    print('aud \"{}\" Detected Normal'.format(aud))\n",
        "  else:\n",
        "    print('aud \"{}\" Detected Abromal'.format(aud))\n",
        "  print()\n"
      ]
    },
    {
      "cell_type": "code",
      "execution_count": null,
      "metadata": {
        "colab": {
          "base_uri": "https://localhost:8080/",
          "height": 182
        },
        "id": "PhEArr-vyDWk",
        "outputId": "dbb571aa-5d2f-465f-b60d-b8b0cfd8456f"
      },
      "outputs": [
        {
          "ename": "NameError",
          "evalue": "ignored",
          "output_type": "error",
          "traceback": [
            "\u001b[0;31m---------------------------------------------------------------------------\u001b[0m",
            "\u001b[0;31mNameError\u001b[0m                                 Traceback (most recent call last)",
            "\u001b[0;32m<ipython-input-19-843c35d282b9>\u001b[0m in \u001b[0;36m<module>\u001b[0;34m()\u001b[0m\n\u001b[0;32m----> 1\u001b[0;31m \u001b[0mtotal_prob\u001b[0m \u001b[0;34m=\u001b[0m \u001b[0mclasses\u001b[0m\u001b[0;34m[\u001b[0m\u001b[0;36m0\u001b[0m\u001b[0;34m]\u001b[0m\u001b[0;34m[\u001b[0m\u001b[0;36m0\u001b[0m\u001b[0;34m]\u001b[0m\u001b[0;34m+\u001b[0m\u001b[0mclasses\u001b[0m\u001b[0;34m[\u001b[0m\u001b[0;36m0\u001b[0m\u001b[0;34m]\u001b[0m\u001b[0;34m[\u001b[0m\u001b[0;36m1\u001b[0m\u001b[0;34m]\u001b[0m\u001b[0;34m\u001b[0m\u001b[0;34m\u001b[0m\u001b[0m\n\u001b[0m\u001b[1;32m      2\u001b[0m \u001b[0mtotal_prob\u001b[0m\u001b[0;34m\u001b[0m\u001b[0;34m\u001b[0m\u001b[0m\n",
            "\u001b[0;31mNameError\u001b[0m: name 'classes' is not defined"
          ]
        }
      ],
      "source": [
        "total_prob = classes[0][0]+classes[0][1]\n",
        "total_prob"
      ]
    },
    {
      "cell_type": "code",
      "execution_count": null,
      "metadata": {
        "colab": {
          "base_uri": "https://localhost:8080/"
        },
        "id": "63HSbktLZ_Zf",
        "outputId": "e4179f83-645c-400d-c7cb-fac91aa4dcaf"
      },
      "outputs": [
        {
          "name": "stdout",
          "output_type": "stream",
          "text": [
            "INFO:tensorflow:Assets written to: /tmp/tmpkgqdfiml/assets\n"
          ]
        },
        {
          "name": "stderr",
          "output_type": "stream",
          "text": [
            "INFO:tensorflow:Assets written to: /tmp/tmpkgqdfiml/assets\n",
            "WARNING:absl:Buffer deduplication procedure will be skipped when flatbuffer library is not properly loaded\n"
          ]
        }
      ],
      "source": [
        "# Convert the model\n",
        "import tensorflow as tf\n",
        "from keras.models import load_model\n",
        "model = tf.keras.models.load_model(r\"/content/conv_model1\")\n",
        "converter = converter = tf.lite.TFLiteConverter.from_keras_model(model) # path to the SavedModel directory\n",
        "tflite_model = converter.convert()\n",
        "\n",
        "\n",
        "# Save the model\n",
        "with open('pcg.tflite', 'wb') as f:\n",
        "  f.write(tflite_model)"
      ]
    },
    {
      "cell_type": "code",
      "execution_count": null,
      "metadata": {
        "id": "kCIaDsqti6NL"
      },
      "outputs": [],
      "source": [
        ""
      ]
    }
  ],
  "metadata": {
    "colab": {
      "collapsed_sections": [],
      "name": "ZAFAR-FYP-Paeds_Research.ipynb",
      "provenance": []
    },
    "gpuClass": "standard",
    "kernelspec": {
      "display_name": "Python 3",
      "name": "python3"
    },
    "language_info": {
      "name": "python"
    }
  },
  "nbformat": 4,
  "nbformat_minor": 0
}